{
 "metadata": {
  "language_info": {
   "codemirror_mode": {
    "name": "ipython",
    "version": 3
   },
   "file_extension": ".py",
   "mimetype": "text/x-python",
   "name": "python",
   "nbconvert_exporter": "python",
   "pygments_lexer": "ipython3",
   "version": "3.8.5-final"
  },
  "orig_nbformat": 2,
  "kernelspec": {
   "name": "python3",
   "display_name": "Python 3.8.5 32-bit ('jobs')",
   "metadata": {
    "interpreter": {
     "hash": "b146c85ba1a9e6dceff45787cfe6d7df368e0f37e43e0402f1cc96662cc21a41"
    }
   }
  }
 },
 "nbformat": 4,
 "nbformat_minor": 2,
 "cells": [
  {
   "cell_type": "code",
   "execution_count": 1,
   "metadata": {},
   "outputs": [],
   "source": [
    "from selenium.webdriver.common.by import By\n",
    "from selenium import webdriver\n",
    "from selenium.webdriver.common.keys import Keys\n",
    "from selenium.webdriver.support.ui import WebDriverWait\n",
    "from selenium.webdriver.support import expected_conditions as EC"
   ]
  },
  {
   "cell_type": "code",
   "execution_count": 15,
   "metadata": {},
   "outputs": [],
   "source": [
    "#specify driver path\n",
    "DRIVER_PATH = 'C:/ProgramData/Microsoft/Windows/Start Menu/Programs/chromedriver'\n",
    "driver = webdriver.Chrome(executable_path = DRIVER_PATH)\n",
    "driver.get('https://indeed.com')\n",
    "\n",
    "#search New Zealand\n",
    "initial_search_job = driver.find_element_by_id('text-input-where')\n",
    "initial_search_job.send_keys(['New Zealand'])\n",
    "\n",
    "#clicks the search button\n",
    "initial_search_button = driver.find_element_by_xpath('//*[@id=\"whatWhereFormId\"]/div[3]/button')\n",
    "initial_search_button.click()\n",
    "\n",
    "#Goes into advanced search\n",
    "advanced_search = driver.find_element_by_xpath(\"//a[contains(text(),'Advanced Job Search')]\")\n",
    "advanced_search.click()\n",
    "\n",
    "\n",
    "\n",
    "#search data science \n",
    "search_job = driver.find_element_by_xpath('//input[@id=\"as_and\"]')\n",
    "search_job.send_keys(['data science'])\n",
    "#set display limit of 30 results per page\n",
    "display_limit = driver.find_element_by_xpath('//select[@id=\"limit\"]//option[@value=\"30\"]')\n",
    "display_limit.click()\n",
    "#sort by date\n",
    "sort_option = driver.find_element_by_xpath('//select[@id=\"sort\"]//option[@value=\"date\"]')\n",
    "sort_option.click()\n",
    "search_button = driver.find_element_by_xpath('//*[@id=\"fj\"]')\n",
    "search_button.click()\n",
    "\n"
   ]
  }
 ]
}